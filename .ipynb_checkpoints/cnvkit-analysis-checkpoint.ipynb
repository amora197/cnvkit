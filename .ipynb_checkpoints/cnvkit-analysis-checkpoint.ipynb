{
 "cells": [
  {
   "cell_type": "markdown",
   "id": "27ba52a7",
   "metadata": {},
   "source": [
    "# Setup and Configuration File Extraction\n",
    "\n",
    "A configuration file `config.cnvkit.yml` in the `config/` directory is provided for specifying file paths, references to build, comparisons to analyze, chromosomes to plot, and cores for parallelization.  \n",
    "\n",
    "All the analyses are done by extracting parameters from the configuration file, looping with Python, and running bash system commands through Python's `os` library."
   ]
  },
  {
   "cell_type": "code",
   "execution_count": null,
   "id": "333a12d4",
   "metadata": {},
   "outputs": [],
   "source": [
    "import yaml\n",
    "import os"
   ]
  },
  {
   "cell_type": "code",
   "execution_count": null,
   "id": "cabb27a9",
   "metadata": {},
   "outputs": [],
   "source": [
    "with open('config-cnvkit.yml') as file:\n",
    "    config = yaml.full_load(file)"
   ]
  },
  {
   "cell_type": "code",
   "execution_count": null,
   "id": "9012daad",
   "metadata": {},
   "outputs": [],
   "source": [
    "bed = config['bed_path']\n",
    "chromosomes = config['chromosomes']\n",
    "comparisons = config['comparisons']\n",
    "cores = config['cores']\n",
    "fasta = config['fasta_path']\n",
    "output = config['output_path']\n",
    "references = config['references']"
   ]
  },
  {
   "cell_type": "markdown",
   "id": "2e49da54",
   "metadata": {},
   "source": [
    "# Reference Creation\n",
    "\n",
    "Compiling a copy-number reference from given files or directory (containing normal samples). The reference can be constructed from zero, one or multiple control samples. If given a reference genome, also calculate the GC content and repeat-masked proportion of each region. Files needed:\n",
    "\n",
    "- bam files of normal/control sample(s)\n",
    "- fasta file\n",
    "- bed file with target regions\n",
    "\n",
    "### Command:\n",
    "\n",
    "**Option 1**:\n",
    "\n",
    "Using wildcard * to specify all normal/control files to use for reference building.\n",
    "\n",
    "```\n",
    "cnvkit.py batch --normal normalFile*.bam \\\n",
    "--output-reference /output/path/nameOfReferenceToCreate.cnn \\\n",
    "--fasta /path/fastaFile.fna \\\n",
    "--targets /path/bedFile.bed \\\n",
    "--output-dir /output/path \\\n",
    "-p numberOfCoresToUseForParallelization\n",
    "```\n",
    "\n",
    "**Option 2**:\n",
    "\n",
    "Listing each normal/control file separately if wildcard cannot be applied.\n",
    "\n",
    "```\n",
    "cnvkit.py batch --normal normalFile1.bam normalFile2.bam normalFileN.bam \\\n",
    "--output-reference /output/path/nameOfReferenceToCreate.cnn \\\n",
    "--fasta /path/fastaFile.fna \\\n",
    "--targets /path/bedFile.bed \\\n",
    "--output-dir /output/path \\\n",
    "-p numberOfCoresToUseForParallelization\n",
    "```"
   ]
  },
  {
   "cell_type": "code",
   "execution_count": null,
   "id": "4d430bf0",
   "metadata": {},
   "outputs": [],
   "source": [
    "for ref in references:\n",
    "    cmd = \"\"\"cnvkit/cnvkit.py batch --normal %s \\\n",
    "--output-reference %s/%s \\\n",
    "--fasta %s \\\n",
    "--targets %s \\\n",
    "--output-dir %s \\\n",
    "-p %d\"\"\" % (' '.join(references[ref]['files_for_ref']),\n",
    "            output, references[ref]['output_ref'], \n",
    "            fasta, \n",
    "            bed,\n",
    "            output,\n",
    "            cores)\n",
    "    os.system(cmd)"
   ]
  },
  {
   "cell_type": "markdown",
   "id": "df7bb12e",
   "metadata": {},
   "source": [
    "# Comparisons\n",
    "\n",
    "Using a reference for calculating coverage in the given regions from BAM read depths.\n",
    "\n",
    "### Command:\n",
    "\n",
    "```\n",
    "cnvkit.py batch mutantFile.bam \\\n",
    "-r /output/reference/path/referenceFile.cnn \\\n",
    "-d /output/path\n",
    "-p numberOfCoresToUseForParallelization\n",
    "```"
   ]
  },
  {
   "cell_type": "code",
   "execution_count": null,
   "id": "79a624cd",
   "metadata": {},
   "outputs": [],
   "source": [
    "for variety in comparisons:\n",
    "    for comparison in comparisons[variety]:\n",
    "        cmd = \"\"\"cnvkit/cnvkit.py batch %s \\\n",
    "-r %s/%s \\\n",
    "-d %s/%s \\\n",
    "-p %d\"\"\" % (comparisons[variety][comparison]['mutant'], \n",
    "            output, comparisons[variety][comparison]['reference'],\n",
    "            output, variety, \n",
    "            cores)\n",
    "        os.system(cmd)"
   ]
  },
  {
   "cell_type": "markdown",
   "id": "75999e25",
   "metadata": {},
   "source": [
    "# Plotting\n",
    "\n",
    "Plot bin-level log2 coverages and segmentation calls together. Without any further arguments, this plots the genome-wide copy number in a form familiar to those who have used array comparative genomic hybridization (aCGH). The options `--chromosome` or `-c` focuses the plot on the specified region.\n",
    "\n",
    "### Command:\n",
    "\n",
    "```\n",
    "cnvkit.py scatter /output/path/mutantFileName.cnr \\\n",
    "-s /output/path/mutantFileName.cns \\\n",
    "-c chromosomeName\n",
    "-o /output/path/nameOfPlot.png\n",
    "-p numberOfCoresToUseForParallelization\n",
    "```"
   ]
  },
  {
   "cell_type": "code",
   "execution_count": null,
   "id": "49f566af",
   "metadata": {},
   "outputs": [],
   "source": [
    "for variety in comparisons:\n",
    "    for comparison in comparisons[variety]:\n",
    "        filename = comparison.replace('%s-vs-' % variety, '')\n",
    "        for chromosome in chromosomes:\n",
    "            cmd = \"\"\"cnvkit/cnvkit.py scatter %s/%s/%s.cnr \\\n",
    "-s %s/%s/%s.cns \\\n",
    "-c %s \\\n",
    "-o %s/%s/%s-%s.png \\\n",
    "\"\"\" % (output, variety, filename,\n",
    "            output, variety, filename,\n",
    "            chromosome,\n",
    "            output, variety, comparison, chromosome)\n",
    "            os.system(cmd)"
   ]
  },
  {
   "cell_type": "markdown",
   "id": "daily-neighborhood",
   "metadata": {},
   "source": [
    "# Zooming into Interesting Regions\n",
    "### Command Example"
   ]
  },
  {
   "cell_type": "code",
   "execution_count": null,
   "id": "measured-thanks",
   "metadata": {},
   "outputs": [],
   "source": [
    "cmd = \"\"\"cnvkit/cnvkit.py scatter \\\n",
    "-s ./output-using-bedtools-merge-count/catuai/1-C7.cns \\\n",
    "-c NC_039902.1 \\\n",
    "-o ./output-using-bedtools-merge-count/catuai-vs-1-C7-NC_039902.1.no_zoom.png \\\n",
    "./output-using-bedtools-merge-count/catuai/1-C7.cnr\"\"\"\n",
    "\n",
    "os.system(cmd)"
   ]
  },
  {
   "cell_type": "code",
   "execution_count": null,
   "id": "julian-suggestion",
   "metadata": {},
   "outputs": [],
   "source": [
    "cmd = \"\"\"cnvkit/cnvkit.py scatter \\\n",
    "-s ./output-using-bedtools-merge-count/catuai/1-C7.cns \\\n",
    "-c NC_039902.1:10000000-12000000 \\\n",
    "-o ./output-using-bedtools-merge-count/catuai-vs-1-C7-NC_039902.1.zoom.png \\\n",
    "./output-using-bedtools-merge-count/catuai/1-C7.cnr\"\"\"\n",
    "\n",
    "os.system(cmd)"
   ]
  }
 ],
 "metadata": {
  "kernelspec": {
   "display_name": "Python 3",
   "language": "python",
   "name": "python3"
  },
  "language_info": {
   "codemirror_mode": {
    "name": "ipython",
    "version": 3
   },
   "file_extension": ".py",
   "mimetype": "text/x-python",
   "name": "python",
   "nbconvert_exporter": "python",
   "pygments_lexer": "ipython3",
   "version": "3.9.4"
  }
 },
 "nbformat": 4,
 "nbformat_minor": 5
}
